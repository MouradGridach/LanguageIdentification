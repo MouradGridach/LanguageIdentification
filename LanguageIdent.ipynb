{
 "cells": [
  {
   "cell_type": "markdown",
   "metadata": {},
   "source": [
    "# Language identification \n",
    "\n",
    "\n",
    "In this code, I implemented a simple method that can detect automatically the language a docuemnt is written in.\n",
    "\n",
    "My simple method is based on Ngrams. Here I choose to employ trigram for simplicity.\n",
    "\n",
    "The training dataset is downloaded from this free corpus : http://corpora2.informatik.uni-leipzig.de/download.html.\n",
    "We limited to 11 languages here. It could be generated on more than 11 languages.\n",
    "\n",
    "For testing, we test 6 different languages. These samples are taken from Wikipedia and represented the definition \n",
    "of \"Artificial intelligence\".\n",
    "\n",
    "The experimental results shows that this sample method based on Ngrams gives good results for both short and long documents.\n",
    "\n",
    "I believe that this task could be done by using Recurrent Neural Networks (LSTMs or GRU) based on character-level because they are the best models for modelling sequences."
   ]
  },
  {
   "cell_type": "code",
   "execution_count": 28,
   "metadata": {
    "collapsed": false
   },
   "outputs": [],
   "source": [
    "import os"
   ]
  },
  {
   "cell_type": "code",
   "execution_count": 29,
   "metadata": {
    "collapsed": true
   },
   "outputs": [],
   "source": [
    "# This function counts trigram for a given file \"fin\". It calls another function \"countingGrams()\" to get the\n",
    "# total number of trigrams in this file\n",
    "\n",
    "def getTrigram(fin):\n",
    "    tri = '   '\n",
    "    dic = {}\n",
    "    myf = open(fin)\n",
    "    for a, line in enumerate(myf):\n",
    "        for letter in line.strip() + ' ':\n",
    "            d = dic.setdefault(tri, {})\n",
    "            d[letter] = d.get(letter, 0) + 1\n",
    "            tri = tri[1] + letter\n",
    "                \n",
    "    myf.close()\n",
    "    res = countingGrams(dic)\n",
    "    return (dic, res)\n"
   ]
  },
  {
   "cell_type": "code",
   "execution_count": 30,
   "metadata": {
    "collapsed": true
   },
   "outputs": [],
   "source": [
    "def countingGrams(val):\n",
    "    cnt = 0\n",
    "    for y in val.values():\n",
    "        cnt += sum(y.values())\n",
    "    return cnt\n"
   ]
  },
  {
   "cell_type": "code",
   "execution_count": 31,
   "metadata": {
    "collapsed": true
   },
   "outputs": [],
   "source": [
    "# This fucntion count how many trigrams are the same for a given two files\n",
    "\n",
    "def counting(gram1, gram2):\n",
    "    cnt = 0\n",
    "    for i in gram1.keys():\n",
    "        if i in gram2:\n",
    "            x = gram1[i]\n",
    "            y = gram2[i]\n",
    "            for j in x:\n",
    "                if j in y:\n",
    "                    cnt += y[j]\n",
    "    return cnt\n"
   ]
  },
  {
   "cell_type": "code",
   "execution_count": 32,
   "metadata": {
    "collapsed": false
   },
   "outputs": [],
   "source": [
    "# This fucntion returns a list of all the text files in a given directory 'rep'\n",
    "\n",
    "def getLanguages(rep):\n",
    "    lis = []\n",
    "    \n",
    "    l = os.listdir(rep)\n",
    "    for i in l:\n",
    "        if \".txt\" in i:\n",
    "            (l1, l2) = getTrigram(rep + \"//\"+i)\n",
    "            end = i.find('.', 0)\n",
    "            lang = i[0:end]\n",
    "            lis.append((lang, l1))\n",
    "    \n",
    "    return lis"
   ]
  },
  {
   "cell_type": "code",
   "execution_count": 33,
   "metadata": {
    "collapsed": false
   },
   "outputs": [],
   "source": [
    "# This function takes the document that we want to find out the language written with, and counts its trigrams \n",
    "# with all the others files, and select the language of the file with the maximum trigrams \n",
    "\n",
    "def identifyLanguage(target, rep):\n",
    "    l = getLanguages(rep)\n",
    "    lun, lu = getTrigram(target)\n",
    "    lis = []\n",
    "    for i in l:\n",
    "        (lan, l1) = i\n",
    "        v = counting(lun, l1)\n",
    "        lis.append((v, lan))\n",
    "    ma = 0\n",
    "    lan = \"\"\n",
    "    for i in lis:\n",
    "        (val, ln) = i\n",
    "        if val > ma:\n",
    "            ma = val\n",
    "            lan = ln\n",
    "    print \"Language used in this file is : \" + lan\n"
   ]
  },
  {
   "cell_type": "code",
   "execution_count": 36,
   "metadata": {
    "collapsed": false
   },
   "outputs": [
    {
     "name": "stdout",
     "output_type": "stream",
     "text": [
      "Language used in this file is : English\n"
     ]
    }
   ],
   "source": [
    "# The traning set was downloaded from this link : http://corpora2.informatik.uni-leipzig.de/download.html\n",
    "\n",
    "identifyLanguage('Testing//Test.txt', \"Training\")"
   ]
  },
  {
   "cell_type": "code",
   "execution_count": null,
   "metadata": {
    "collapsed": true
   },
   "outputs": [],
   "source": []
  }
 ],
 "metadata": {
  "kernelspec": {
   "display_name": "Python 2",
   "language": "python",
   "name": "python2"
  },
  "language_info": {
   "codemirror_mode": {
    "name": "ipython",
    "version": 2
   },
   "file_extension": ".py",
   "mimetype": "text/x-python",
   "name": "python",
   "nbconvert_exporter": "python",
   "pygments_lexer": "ipython2",
   "version": "2.7.11"
  }
 },
 "nbformat": 4,
 "nbformat_minor": 0
}
